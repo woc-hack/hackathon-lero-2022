{
 "cells": [
  {
   "cell_type": "markdown",
   "metadata": {},
   "source": [
    "# Context\n",
    "\n",
    "LZ4 is a widely-used lossless compression algorithm. The reference\n",
    "implementation of LZ4 at github.com/lz4/lz is subject to a heap-based\n",
    "buffer overflow in releases prior to 1.9.2 as described in\n",
    "CVE-2019-17543. The vulnerability is fixed by commit\n",
    "d7cad81093cd805110291f84d64d385557d0ffba.\n",
    "\n",
    "\n",
    "# Aim\n",
    "\n",
    "Lets try to determine all the code that may still be vulnerable!\n",
    "\n",
    "First lets define WoC access functions"
   ]
  },
  {
   "cell_type": "code",
   "execution_count": 54,
   "metadata": {},
   "outputs": [],
   "source": [
    "import requests, json\n",
    "\n",
    "def showCnt (type, sha1):\n",
    "  url='http://worldofcode.org/api/lookup?command=showCnt' + '&type='+ type + '&sha1=' + sha1\n",
    "  r = requests.get(url)\n",
    "  res = json.loads(r.content)['stdout']\n",
    "  if type == 'commit': \n",
    "    res = res.split(';')\n",
    "    return ('Tree:'+res[1]+'\\nParent:'+res[2]+'\\nAuthor:'+res[3]+'\\n')\n",
    "  return (res)\n",
    "\n",
    "\n",
    "def getValue (map, key):\n",
    "  #map/key may not be correct names of the parameters\n",
    "  url='http://worldofcode.org/api/lookup?command=getValues' + '&type='+ map + '&sha1=' + key\n",
    "  r = requests.get(url)\n",
    "  return (json.loads(r.content)['stdout']).split(';')[1:]"
   ]
  },
  {
   "cell_type": "markdown",
   "metadata": {},
   "source": [
    "Once these functions are defined we can investigate the the problem:\n",
    "\n",
    "What is the commit?\n",
    "\n",
    "What files does it modify?"
   ]
  },
  {
   "cell_type": "code",
   "execution_count": 55,
   "metadata": {},
   "outputs": [
    {
     "name": "stdout",
     "output_type": "stream",
     "text": [
      "Tree:9af7fb7a0b32809791cad70c12eda3dc9ccb48c7\n",
      "Parent:1bcde6414a68094601ecd57a968808fdd43fb986\n",
      "Author:Nick Terrell <terrelln@fb.com>\n",
      "\n",
      "c2b no of elements:1\n",
      "9808d70aed03290c648b983ea404446779eff501\n",
      "\n",
      "\n",
      "c2f no of elements:1\n",
      "lib/lz4.c\n",
      "\n",
      "\n"
     ]
    }
   ],
   "source": [
    "print (showCnt('commit', 'd7cad81093cd805110291f84d64d385557d0ffba'))\n",
    "\n",
    "v = getValue('c2b', 'd7cad81093cd805110291f84d64d385557d0ffba')\n",
    "print ('c2b no of elements:' + str(len(v)))\n",
    "for b in v: print (b+'\\n')\n",
    "\n",
    "v = getValue('c2f', 'd7cad81093cd805110291f84d64d385557d0ffba')\n",
    "print ('c2f no of elements:' + str(len(v)))\n",
    "for f in v: print (f+'\\n')             "
   ]
  },
  {
   "cell_type": "markdown",
   "metadata": {},
   "source": [
    "The commit with the fix contains only one blob\n",
    "(9808d70aed03290c648b983ea404446779eff501) that creates a new version of lib/lz4.c. The author of that commit is\n",
    "Nick Terrell <terrelln@fb.com>. \n",
    "\n",
    "What projects fixed the vulerability? If they have fixed blob, then they should be OK, \n",
    "if they have the same commit, they are also probably forks.\n",
    "We use p to represent original repo and P to represent deforked repo (one among repos that \n",
    "share lots of commits (https://arxiv.org/abs/2002.02707)"
   ]
  },
  {
   "cell_type": "code",
   "execution_count": 56,
   "metadata": {},
   "outputs": [
    {
     "name": "stdout",
     "output_type": "stream",
     "text": [
      "b2P no of elements:26\n",
      "0-wiz-0_libuv\n",
      "\n",
      "06094051_librdkafka\n",
      "\n",
      "1010101012101_borg\n",
      "\n",
      "3370sohail_gecko-dev\n",
      "\n",
      "540KJ_root\n",
      "\n",
      "6180_python-lz4\n",
      "\n",
      "Alexhuszagh_c-blosc\n",
      "\n",
      "Bambooie_gdsfmt\n",
      "\n",
      "cactus74_fst\n",
      "\n",
      "darkskygit_simple_kv\n",
      "\n",
      "draede_cx\n",
      "\n",
      "dudw_libportable\n",
      "\n",
      "fangq_matzip\n",
      "\n",
      "girdharshubham_gokafka\n",
      "\n",
      "git.bioconductor.org_packages_gdsfmt\n",
      "\n",
      "jmoiron_golz4\n",
      "\n",
      "karubabu_quickbms\n",
      "\n",
      "liliilli_Dy\n",
      "\n",
      "lmtwga_lzbench\n",
      "\n",
      "marcelorl_graphql-real-time-example\n",
      "\n",
      "pharaoh1_7-Zip-zstd\n",
      "\n",
      "scalarwaves_zbox\n",
      "\n",
      "silnrsi_grcompiler\n",
      "\n",
      "tafia_fstlib\n",
      "\n",
      "ushiiwaka_ps2-packer\n",
      "\n",
      "windreamer_py-lz4framed\n",
      "\n",
      "\n",
      "c2P no of elements:1\n",
      "0-wiz-0_libuv\n",
      "\n",
      "\n",
      "c2p no of elements:7\n",
      "MiniclipPortugal_lz4\n",
      "\n",
      "bobby0809_lz4\n",
      "\n",
      "gitlab.com_exokos_data/LibLZ4\n",
      "\n",
      "gitlab.com_freedesktop-sdk_mirrors/github/lz4/lz4\n",
      "\n",
      "gitlab.com_fuchsia-cn_fuchsia/third_party/lz4\n",
      "\n",
      "lz4_lz4\n",
      "\n",
      "terrelln_lz4\n",
      "\n",
      "\n"
     ]
    }
   ],
   "source": [
    "v = getValue('b2P', '9808d70aed03290c648b983ea404446779eff501')\n",
    "print ('b2P no of elements:' + str(len(v)))\n",
    "for p in v: print (p+'\\n')\n",
    "\n",
    "v = getValue('c2P', 'd7cad81093cd805110291f84d64d385557d0ffba')\n",
    "print ('c2P no of elements:' + str(len(v)))\n",
    "for p in v: print (p+'\\n')\n",
    "\n",
    "v = getValue('c2p', 'd7cad81093cd805110291f84d64d385557d0ffba')\n",
    "print ('c2p no of elements:' + str(len(v)))\n",
    "for p in v: print (p+'\\n')\n"
   ]
  },
  {
   "cell_type": "markdown",
   "metadata": {},
   "source": [
    "## Results \n",
    "\n",
    "b2P shows 26 (deforeked repos) projects has the fixed code. They are 13862 distinct repos (cveb2p.txt)\n",
    "\n",
    "c2P shows one project to have the fixing commit (that single project has 7681 forks(repos)). \n",
    "\n",
    "c2p shows that only seven actual repos to have the exact commit.  \n",
    "\n",
    "Somehow the fix was produced via different commits in the forks and \n",
    "many other projects (26) have implemented the fix even though these are not forks.\n",
    " \n",
    "                       \n",
    "Now lets try to identify the code that may still be vulnerable. How?\n",
    "By looking at the pre-fix file content.                       "
   ]
  },
  {
   "cell_type": "code",
   "execution_count": 57,
   "metadata": {},
   "outputs": [
    {
     "name": "stdout",
     "output_type": "stream",
     "text": [
      "b2ob no of elements:9\n",
      "08cf6b5cd72b8182552dcc53bdc0d83ccd5382fd\n",
      "\n",
      "143c36e1a7448c488a44498ac953ea222f3f38d0\n",
      "\n",
      "4046102e6deea607dc12f870c14295cab1efee77\n",
      "\n",
      "707b94c41954792f95b6bb2d316b787352969cef\n",
      "\n",
      "877d14edad4b0568598d64579ecb68db82bd59f4\n",
      "\n",
      "c9c5a072a193b9b7f7c010797d0e122038587332\n",
      "\n",
      "e51a3e0a46c9608bedbb0b9565d736240b30bde6\n",
      "\n",
      "e614c4577f2ae8b2db76ff838f2051eeeeb1a89b\n",
      "\n",
      "ed928ced3f154ab414f657c4dbd0193cbe7cd969\n",
      "\n",
      "\n"
     ]
    }
   ],
   "source": [
    "v = getValue('b2ob', '9808d70aed03290c648b983ea404446779eff501')\n",
    "print ('b2ob no of elements:' + str(len(v)))\n",
    "for b in v: print (b+'\\n')"
   ]
  },
  {
   "cell_type": "markdown",
   "metadata": {},
   "source": [
    "# Results\n",
    "\n",
    "In fact, if we proceed to find parent blobs (see code below), we find recursively 514 unique old blobs (cveOBlobs.txt) in 706 different projects (cveOBlobsPs.txt).\n",
    "\n",
    "We then need to identify those that do not have the fixed blob in order to determine projects that \n",
    "might contain still-vulnerable code.\n",
    "\n",
    "One way to do that is to look at the set difference of projects containing fixed blob and ones that lack it, but have one of these 514 paretn blobs.\n",
    "\n",
    "There are 433185 repos for the 706 different projects (cveP2p.txt) containin old blobs.\n",
    "To be more precise, we can trace the old blobs to commits (cveOBlobsCs.txt) and commits to a much smaller number of  repos (cveOBlobsCsps.txt). \n",
    "\n",
    "Similarly, the fixed blob maps to 64 commits (cveBlobCs.txt) and these to 104 repos (cveBlobCsps.txt). This means that in at least 40152 - 104 repos the vulnerability was either not fixed or fixed in a different way!\n"
   ]
  },
  {
   "cell_type": "markdown",
   "metadata": {},
   "source": [
    "# Appendix\n",
    "\n",
    "The following code finds all predecessor blobs and projects that contain them. For convenience (running the script takes some time)."
   ]
  },
  {
   "cell_type": "code",
   "execution_count": null,
   "metadata": {},
   "outputs": [],
   "source": [
    "#\n",
    "# Recursively walk old blobs using b2ob and print all old blobs and all\n",
    "# projects associated with each blob. When finished, blob_list will\n",
    "# contain the list of all unique blobs and proj_list will contain all\n",
    "# unique projects (from b2P).\n",
    "#\n",
    "def b2ob_r (blob, blob_list, proj_list):\n",
    "    blob = blob.rstrip()\n",
    "    if blob in blob_list:\n",
    "        # skip duplicates\n",
    "        return\n",
    "    blob_list.append(blob)\n",
    "    print (blob)\n",
    "    v = getValue ('b2P', blob)\n",
    "    for p in v:\n",
    "        p = p.rstrip()\n",
    "        print('  proj = ' + p)\n",
    "        if p not in proj_list:\n",
    "            proj_list.append(p)\n",
    "    v = getValue ('b2ob', blob)\n",
    "    for b in v:\n",
    "        b2ob_r (b, blob_list, proj_list)\n",
    "\n",
    "\n",
    "blob_list = []\n",
    "proj_list = []\n",
    "b2ob_r('9808d70aed03290c648b983ea404446779eff501', blob_list, proj_list)\n",
    "\n",
    "print('')\n",
    "print('number of blobs: ' + str(len(blob_list)))\n",
    "print('number of projects: ' + str(len(proj_list))) "
   ]
  }
 ],
 "metadata": {
  "kernelspec": {
   "display_name": "Python 3",
   "language": "python",
   "name": "python3"
  },
  "language_info": {
   "codemirror_mode": {
    "name": "ipython",
    "version": 3
   },
   "file_extension": ".py",
   "mimetype": "text/x-python",
   "name": "python",
   "nbconvert_exporter": "python",
   "pygments_lexer": "ipython3",
   "version": "3.6.9"
  }
 },
 "nbformat": 4,
 "nbformat_minor": 4
}
